{
 "cells": [
  {
   "cell_type": "code",
   "execution_count": 7,
   "id": "b3a63cee",
   "metadata": {},
   "outputs": [],
   "source": [
    "import pandas as pd\n",
    "import numpy as np\n",
    "import matplotlib.pyplot as plt"
   ]
  },
  {
   "cell_type": "code",
   "execution_count": 8,
   "id": "83e574af",
   "metadata": {},
   "outputs": [],
   "source": [
    "gpus = 1 \n",
    "metrics = np.loadtxt('metrics1.dat')\n",
    "data = np.hstack((metrics,gpus*np.ones((len(metrics),1)),))"
   ]
  },
  {
   "cell_type": "code",
   "execution_count": 9,
   "id": "58a4f346",
   "metadata": {},
   "outputs": [],
   "source": [
    "data = []\n",
    "for log2gpus in range(4):\n",
    "    gpus = int(2**log2gpus)\n",
    "    metrics = np.loadtxt(f'metrics{gpus}.dat')\n",
    "    epochs = len(metrics)\n",
    "    data.append(np.hstack((metrics,gpus*np.ones((epochs,1)), np.arange(epochs)[:,np.newaxis])))\n",
    "\n",
    "data = np.vstack(data)\n",
    "df = pd.DataFrame(data,columns=['train_acc','train_loss','valid_acc','valid_loss','time_per_epochs','gpus','epoch'])"
   ]
  },
  {
   "cell_type": "code",
   "execution_count": 10,
   "id": "909fc6b2",
   "metadata": {},
   "outputs": [
    {
     "data": {
      "text/html": [
       "<div>\n",
       "<style scoped>\n",
       "    .dataframe tbody tr th:only-of-type {\n",
       "        vertical-align: middle;\n",
       "    }\n",
       "\n",
       "    .dataframe tbody tr th {\n",
       "        vertical-align: top;\n",
       "    }\n",
       "\n",
       "    .dataframe thead th {\n",
       "        text-align: right;\n",
       "    }\n",
       "</style>\n",
       "<table border=\"1\" class=\"dataframe\">\n",
       "  <thead>\n",
       "    <tr style=\"text-align: right;\">\n",
       "      <th></th>\n",
       "      <th>train_acc</th>\n",
       "      <th>train_loss</th>\n",
       "      <th>valid_acc</th>\n",
       "      <th>valid_loss</th>\n",
       "      <th>time_per_epochs</th>\n",
       "      <th>gpus</th>\n",
       "      <th>epoch</th>\n",
       "    </tr>\n",
       "  </thead>\n",
       "  <tbody>\n",
       "    <tr>\n",
       "      <th>0</th>\n",
       "      <td>0.921659</td>\n",
       "      <td>0.921659</td>\n",
       "      <td>0.980769</td>\n",
       "      <td>0.053498</td>\n",
       "      <td>5.520081</td>\n",
       "      <td>1.0</td>\n",
       "      <td>0.0</td>\n",
       "    </tr>\n",
       "    <tr>\n",
       "      <th>1</th>\n",
       "      <td>0.969134</td>\n",
       "      <td>0.969134</td>\n",
       "      <td>0.985477</td>\n",
       "      <td>0.046677</td>\n",
       "      <td>1.554397</td>\n",
       "      <td>1.0</td>\n",
       "      <td>1.0</td>\n",
       "    </tr>\n",
       "    <tr>\n",
       "      <th>2</th>\n",
       "      <td>0.973173</td>\n",
       "      <td>0.973173</td>\n",
       "      <td>0.985577</td>\n",
       "      <td>0.046348</td>\n",
       "      <td>1.721284</td>\n",
       "      <td>1.0</td>\n",
       "      <td>2.0</td>\n",
       "    </tr>\n",
       "    <tr>\n",
       "      <th>3</th>\n",
       "      <td>0.976278</td>\n",
       "      <td>0.976278</td>\n",
       "      <td>0.986979</td>\n",
       "      <td>0.044493</td>\n",
       "      <td>1.546939</td>\n",
       "      <td>1.0</td>\n",
       "      <td>3.0</td>\n",
       "    </tr>\n",
       "    <tr>\n",
       "      <th>4</th>\n",
       "      <td>0.977847</td>\n",
       "      <td>0.977847</td>\n",
       "      <td>0.987580</td>\n",
       "      <td>0.039544</td>\n",
       "      <td>1.547734</td>\n",
       "      <td>1.0</td>\n",
       "      <td>4.0</td>\n",
       "    </tr>\n",
       "    <tr>\n",
       "      <th>...</th>\n",
       "      <td>...</td>\n",
       "      <td>...</td>\n",
       "      <td>...</td>\n",
       "      <td>...</td>\n",
       "      <td>...</td>\n",
       "      <td>...</td>\n",
       "      <td>...</td>\n",
       "    </tr>\n",
       "    <tr>\n",
       "      <th>59</th>\n",
       "      <td>0.106637</td>\n",
       "      <td>0.106637</td>\n",
       "      <td>0.097456</td>\n",
       "      <td>2.302331</td>\n",
       "      <td>1.967707</td>\n",
       "      <td>8.0</td>\n",
       "      <td>11.0</td>\n",
       "    </tr>\n",
       "    <tr>\n",
       "      <th>60</th>\n",
       "      <td>0.105575</td>\n",
       "      <td>0.105575</td>\n",
       "      <td>0.102865</td>\n",
       "      <td>2.302907</td>\n",
       "      <td>1.799066</td>\n",
       "      <td>8.0</td>\n",
       "      <td>12.0</td>\n",
       "    </tr>\n",
       "    <tr>\n",
       "      <th>61</th>\n",
       "      <td>0.106610</td>\n",
       "      <td>0.106610</td>\n",
       "      <td>0.102865</td>\n",
       "      <td>2.303925</td>\n",
       "      <td>1.770946</td>\n",
       "      <td>8.0</td>\n",
       "      <td>13.0</td>\n",
       "    </tr>\n",
       "    <tr>\n",
       "      <th>62</th>\n",
       "      <td>0.106353</td>\n",
       "      <td>0.106353</td>\n",
       "      <td>0.113482</td>\n",
       "      <td>2.309995</td>\n",
       "      <td>2.062879</td>\n",
       "      <td>8.0</td>\n",
       "      <td>14.0</td>\n",
       "    </tr>\n",
       "    <tr>\n",
       "      <th>63</th>\n",
       "      <td>0.106347</td>\n",
       "      <td>0.106347</td>\n",
       "      <td>0.097456</td>\n",
       "      <td>2.307670</td>\n",
       "      <td>1.765192</td>\n",
       "      <td>8.0</td>\n",
       "      <td>15.0</td>\n",
       "    </tr>\n",
       "  </tbody>\n",
       "</table>\n",
       "<p>64 rows × 7 columns</p>\n",
       "</div>"
      ],
      "text/plain": [
       "    train_acc  train_loss  valid_acc  valid_loss  time_per_epochs  gpus  epoch\n",
       "0    0.921659    0.921659   0.980769    0.053498         5.520081   1.0    0.0\n",
       "1    0.969134    0.969134   0.985477    0.046677         1.554397   1.0    1.0\n",
       "2    0.973173    0.973173   0.985577    0.046348         1.721284   1.0    2.0\n",
       "3    0.976278    0.976278   0.986979    0.044493         1.546939   1.0    3.0\n",
       "4    0.977847    0.977847   0.987580    0.039544         1.547734   1.0    4.0\n",
       "..        ...         ...        ...         ...              ...   ...    ...\n",
       "59   0.106637    0.106637   0.097456    2.302331         1.967707   8.0   11.0\n",
       "60   0.105575    0.105575   0.102865    2.302907         1.799066   8.0   12.0\n",
       "61   0.106610    0.106610   0.102865    2.303925         1.770946   8.0   13.0\n",
       "62   0.106353    0.106353   0.113482    2.309995         2.062879   8.0   14.0\n",
       "63   0.106347    0.106347   0.097456    2.307670         1.765192   8.0   15.0\n",
       "\n",
       "[64 rows x 7 columns]"
      ]
     },
     "execution_count": 10,
     "metadata": {},
     "output_type": "execute_result"
    }
   ],
   "source": [
    "df.set_index('epoch', inplace=True)"
   ]
  },
  {
   "cell_type": "code",
   "execution_count": 20,
   "id": "7e53cb2c",
   "metadata": {},
   "outputs": [
    {
     "data": {
      "image/png": "[encoded data removed]",
      "text/plain": [
       "<Figure size 432x288 with 1 Axes>"
      ]
     },
     "metadata": {
      "needs_background": "light"
     },
     "output_type": "display_data"
    }
   ],
   "source": [
    "df.groupby('gpus')['train_acc'].plot(legend=True)\n",
    "plt.ylabel('Training Accuracy')\n",
    "plt.savefig('training-acc-by-gpu.png')"
   ]
  },
  {
   "cell_type": "code",
   "execution_count": 21,
   "id": "f56feb5b",
   "metadata": {},
   "outputs": [
    {
     "data": {
      "image/png": "[encoded data removed]",
      "text/plain": [
       "<Figure size 432x288 with 1 Axes>"
      ]
     },
     "metadata": {
      "needs_background": "light"
     },
     "output_type": "display_data"
    }
   ],
   "source": [
    "df.groupby('gpus')['valid_acc'].plot(legend=True)\n",
    "plt.ylabel('Validation Accuracy')\n",
    "plt.savefig('valid-acc-by-gpu.png')"
   ]
  },
  {
   "cell_type": "code",
   "execution_count": null,
   "id": "856860c4",
   "metadata": {},
   "outputs": [],
   "source": []
  }
 ],
 "metadata": {
  "kernelspec": {
   "display_name": "conda/2021-09-22",
   "language": "python",
   "name": "conda-2021-09-22"
  },
  "language_info": {
   "codemirror_mode": {
    "name": "ipython",
    "version": 3
   },
   "file_extension": ".py",
   "mimetype": "text/x-python",
   "name": "python",
   "nbconvert_exporter": "python",
   "pygments_lexer": "ipython3",
   "version": "3.8.10"
  }
 },
 "nbformat": 4,
 "nbformat_minor": 5
}
